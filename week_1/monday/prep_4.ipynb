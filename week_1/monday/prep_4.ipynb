{
 "cells": [
  {
   "cell_type": "code",
   "execution_count": null,
   "metadata": {
    "collapsed": false
   },
   "outputs": [],
   "source": [
    "myList = [42, 21, 84, 17]\n",
    "for item in myList:\n",
    "    print(\"item: \" + str(item))\n",
    "    print(\"or like this: item: {}\".format(item))"
   ]
  },
  {
   "cell_type": "code",
   "execution_count": 1,
   "metadata": {
    "collapsed": false
   },
   "outputs": [
    {
     "name": "stdout",
     "output_type": "stream",
     "text": [
      "count: 0, item: 42\n",
      "count: 1, item: 21\n",
      "count: 2, item: 84\n",
      "count: 3, item: 17\n"
     ]
    }
   ],
   "source": [
    "myList = [42, 21, 84, 17]\n",
    "enumList = enumerate(myList)\n",
    "for count, item in enumList:\n",
    "    print(\"count: {}, item: {}\".format(count, item))"
   ]
  },
  {
   "cell_type": "code",
   "execution_count": null,
   "metadata": {
    "collapsed": false
   },
   "outputs": [],
   "source": [
    "# transform list and assign it to a new variable\n",
    "myOtherList = [2 * item for item in myList]\n",
    "print(myOtherList)"
   ]
  },
  {
   "cell_type": "code",
   "execution_count": null,
   "metadata": {
    "collapsed": false
   },
   "outputs": [],
   "source": [
    "r = [i for i in range(1,9)]\n",
    "print(r)"
   ]
  },
  {
   "cell_type": "code",
   "execution_count": null,
   "metadata": {
    "collapsed": false
   },
   "outputs": [],
   "source": [
    "# range function, convert to string\n",
    "listStrings = [ str(num) for num in range (1,10)]\n",
    "print(listStrings)"
   ]
  },
  {
   "cell_type": "code",
   "execution_count": null,
   "metadata": {
    "collapsed": false
   },
   "outputs": [],
   "source": [
    "# counting stuff\n",
    "[1, 2, 3, 4, 1, 2,3].count(1)"
   ]
  },
  {
   "cell_type": "code",
   "execution_count": 2,
   "metadata": {
    "collapsed": false
   },
   "outputs": [
    {
     "name": "stdout",
     "output_type": "stream",
     "text": [
      "[4, 2, 8, 1]\n",
      "[1, 1, 0, 1, 0, 0, 0, 1]\n"
     ]
    }
   ],
   "source": [
    "#get the first digit\n",
    "firstNumbers = [ int(str(i)[0]) for i in myList]\n",
    "print(firstNumbers)\n",
    "#frequency count\n",
    "freq = [ firstNumbers.count(n) for n in range(1,9)]\n",
    "print(freq)"
   ]
  },
  {
   "cell_type": "code",
   "execution_count": null,
   "metadata": {
    "collapsed": false
   },
   "outputs": [],
   "source": [
    "# in one go (not so easy to read though)\n",
    "freq = [ [ int(str(i)[0]) for i in myList ].count(n) for n in range(1,10)]  \n",
    "print (freq)"
   ]
  },
  {
   "cell_type": "code",
   "execution_count": null,
   "metadata": {
    "collapsed": false
   },
   "outputs": [],
   "source": [
    "import csv\n",
    "\n",
    "with open('data/Assignment_4.csv') as f:  \n",
    "  your_list = list(csv.reader(f))\n",
    "\n",
    "for rowCount, line in enumerate(your_list):  \n",
    "  # frequency count of most significant numbers, \n",
    "  freq = [ [ int(str(i)[0]) for i in line ].count(n) for n in range(1,10)]  \n",
    "  # make it pretty\n",
    "  print ( \"row: {} - \".format(rowCount+1)  + \", \".join([ \"{}: {}\".format(index+1, item)  for index, item in enumerate(freq)  ] ) )"
   ]
  },
  {
   "cell_type": "code",
   "execution_count": null,
   "metadata": {
    "collapsed": true
   },
   "outputs": [],
   "source": []
  }
 ],
 "metadata": {
  "kernelspec": {
   "display_name": "Python 3",
   "language": "python",
   "name": "python3"
  },
  "language_info": {
   "codemirror_mode": {
    "name": "ipython",
    "version": 3
   },
   "file_extension": ".py",
   "mimetype": "text/x-python",
   "name": "python",
   "nbconvert_exporter": "python",
   "pygments_lexer": "ipython3",
   "version": "3.5.1"
  }
 },
 "nbformat": 4,
 "nbformat_minor": 0
}
