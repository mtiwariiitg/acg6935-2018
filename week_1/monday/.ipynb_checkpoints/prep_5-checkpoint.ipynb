{
 "cells": [
  {
   "cell_type": "code",
   "execution_count": null,
   "metadata": {
    "collapsed": false
   },
   "outputs": [],
   "source": [
    "# using dictionaries\n",
    "# a dictionary is a variable that with \"key\" -> \"value\" pairs (where \"value can be anything)\n",
    "d = dict()\n",
    "# key is 'hi', value is 'something'\n",
    "d[\"hi\"] = \"something\"\n",
    "myVar = \"x\"\n",
    "# key is 'x' and value is 2\n",
    "d[myVar] = 2\n",
    "# the value can be a list (will come in handy)\n",
    "d[\"somelist\"] = [1, 2, 3, 4]\n",
    "print(d)"
   ]
  },
  {
   "cell_type": "code",
   "execution_count": null,
   "metadata": {
    "collapsed": false
   },
   "outputs": [],
   "source": [
    "import csv\n",
    "\n",
    "with open('data/Assignment_5.txt') as f:  \n",
    "  your_list = list(csv.reader(f))"
   ]
  },
  {
   "cell_type": "code",
   "execution_count": null,
   "metadata": {
    "collapsed": false
   },
   "outputs": [],
   "source": [
    "print(your_list)\n"
   ]
  },
  {
   "cell_type": "code",
   "execution_count": null,
   "metadata": {
    "collapsed": false
   },
   "outputs": [],
   "source": [
    "for name, age, fruit in your_list:\n",
    "    print(\"Name: {}, age: {}, fruit: {}\".format(name, age, fruit))"
   ]
  },
  {
   "cell_type": "code",
   "execution_count": null,
   "metadata": {
    "collapsed": false
   },
   "outputs": [],
   "source": [
    "# dictionary, with entries for fruit, each entry holding a list of ages\n",
    "# for example, the dictionary can hold \"banana\" => 22, 18 and \"apple\" => 24, 44, 34\n",
    "myFruit = dict()\n",
    "for name, age, fruit in your_list:\n",
    "    if fruit not in myFruit:\n",
    "        # fruit is not there yet, initialize with empty list ([])\n",
    "        myFruit[fruit] = []\n",
    "    # this will append the age to the list\n",
    "    myFruit[fruit].append(int(age))\n",
    "#take a peek\n",
    "print(myFruit)"
   ]
  },
  {
   "cell_type": "code",
   "execution_count": null,
   "metadata": {
    "collapsed": false
   },
   "outputs": [],
   "source": [
    "# now cook up the counts and averages\n",
    "for key in myFruit:\n",
    "    numPeople = len(myFruit[key])\n",
    "    sumAgePeople = sum(myFruit[key])\n",
    "    print(\"Fruit: {}, number of people: {}, average age: {}\".format(key, numPeople, sumAgePeople/numPeople ))"
   ]
  },
  {
   "cell_type": "code",
   "execution_count": null,
   "metadata": {
    "collapsed": true
   },
   "outputs": [],
   "source": []
  }
 ],
 "metadata": {
  "kernelspec": {
   "display_name": "Python 3",
   "language": "python",
   "name": "python3"
  },
  "language_info": {
   "codemirror_mode": {
    "name": "ipython",
    "version": 3
   },
   "file_extension": ".py",
   "mimetype": "text/x-python",
   "name": "python",
   "nbconvert_exporter": "python",
   "pygments_lexer": "ipython3",
   "version": "3.5.1"
  }
 },
 "nbformat": 4,
 "nbformat_minor": 0
}
