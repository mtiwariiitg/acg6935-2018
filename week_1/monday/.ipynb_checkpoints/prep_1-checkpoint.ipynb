{
 "cells": [
  {
   "cell_type": "code",
   "execution_count": null,
   "metadata": {
    "collapsed": true
   },
   "outputs": [],
   "source": [
    "# keep multiplying until the number exceeds 1\n",
    "# then, take the first position\n",
    "def firstNumber(number):\n",
    "    if number < 0:\n",
    "        number *= -1\n",
    "    while(number < 1):\n",
    "        number *= 10\n",
    "    return int(str(number)[0])"
   ]
  },
  {
   "cell_type": "code",
   "execution_count": null,
   "metadata": {
    "collapsed": true
   },
   "outputs": [],
   "source": [
    "# compact (but harder to read)\n",
    "# assumes that there are not too many zeros (like 0.00000000243)\n",
    "def firstNumber_vs1(number):    \n",
    "    # make it absolute and multiply with large number (so it gets above 1),\n",
    "    # turn it into string and return first element [0], then convert to int\n",
    "    return int(str(abs(number*100000))[0])"
   ]
  },
  {
   "cell_type": "code",
   "execution_count": null,
   "metadata": {
    "collapsed": true
   },
   "outputs": [],
   "source": [
    "# I Googled this\n",
    "from math import *\n",
    "def firstNumber_vs2(x):\n",
    "    # round down (floor) the log10 of the number\n",
    "    e = floor(log10(abs(x)))\n",
    "    # take x and muliply it by 10 to the power of the above number minus e\n",
    "    return int(abs(x)*10**-e)"
   ]
  },
  {
   "cell_type": "code",
   "execution_count": null,
   "metadata": {
    "collapsed": false
   },
   "outputs": [],
   "source": [
    "print (firstNumber (-0.00032))\n",
    "print (firstNumber_vs1 (-0.00032))\n",
    "print (firstNumber_vs2 (-0.00032))"
   ]
  },
  {
   "cell_type": "code",
   "execution_count": null,
   "metadata": {
    "collapsed": true
   },
   "outputs": [],
   "source": []
  }
 ],
 "metadata": {
  "kernelspec": {
   "display_name": "Python 3",
   "language": "python",
   "name": "python3"
  },
  "language_info": {
   "codemirror_mode": {
    "name": "ipython",
    "version": 3
   },
   "file_extension": ".py",
   "mimetype": "text/x-python",
   "name": "python",
   "nbconvert_exporter": "python",
   "pygments_lexer": "ipython3",
   "version": "3.5.1"
  }
 },
 "nbformat": 4,
 "nbformat_minor": 0
}
