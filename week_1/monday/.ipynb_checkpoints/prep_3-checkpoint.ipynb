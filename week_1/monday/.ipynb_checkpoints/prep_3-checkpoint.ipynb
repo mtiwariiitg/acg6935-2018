{
 "cells": [
  {
   "cell_type": "code",
   "execution_count": null,
   "metadata": {
    "collapsed": false
   },
   "outputs": [],
   "source": [
    "fname = 'data/myInputFile_3.txt'\n",
    "fhand = open(fname)\n",
    "\n",
    "for line in fhand:\n",
    "\n",
    "    if line.startswith('salesUnits') :\n",
    "        i = line.find(':') + 1\n",
    "        s = int(line[i:])\n",
    "        \n",
    "    if line.startswith('priceUnit') :\n",
    "        i = line.find(':') + 1\n",
    "        p = int(line[i:])\n",
    "        \n",
    "    if line.startswith('fixedCosts'):\n",
    "        i = line.find(':') + 1\n",
    "        fc = int(line[i:])\n",
    "        \n",
    "    if line.startswith('variableCostUnit'):\n",
    "        i = line.find(':') + 1\n",
    "        vcu = int(line[i:])       \n",
    "\n",
    "breakevenUnits = fc / ((p - vcu))\n",
    "print('Breakeven Units: ' + str(breakevenUnits))"
   ]
  },
  {
   "cell_type": "code",
   "execution_count": null,
   "metadata": {
    "collapsed": false
   },
   "outputs": [],
   "source": [
    "#alternative\n",
    "fname = 'data/myInputFile_3.txt'\n",
    "fhand = open(fname)\n",
    "\n",
    "for line in fhand:\n",
    "\n",
    "    # assign variable and value at the same time (this is a list of 2 variables)\n",
    "    # rstrip first removes the newline\n",
    "    # the split function takes a string and returns a list\n",
    "    variable, value = line.rstrip().split(\":\")\n",
    "    # turn the variable into a float\n",
    "    value = float(value)\n",
    "    if variable == 'salesUnits':\n",
    "        s = value\n",
    "    elif variable == 'priceUnit':\n",
    "        p = value\n",
    "    elif variable == 'fixedCosts':\n",
    "        fc = value\n",
    "    elif variable == 'variableCostUnit':\n",
    "        vc = value\n",
    "\n",
    "breakevenUnits = fc / ((p - vcu))\n",
    "print('Breakeven Units: ' + str(breakevenUnits))        "
   ]
  },
  {
   "cell_type": "code",
   "execution_count": null,
   "metadata": {
    "collapsed": true
   },
   "outputs": [],
   "source": []
  }
 ],
 "metadata": {
  "kernelspec": {
   "display_name": "Python 3",
   "language": "python",
   "name": "python3"
  },
  "language_info": {
   "codemirror_mode": {
    "name": "ipython",
    "version": 3
   },
   "file_extension": ".py",
   "mimetype": "text/x-python",
   "name": "python",
   "nbconvert_exporter": "python",
   "pygments_lexer": "ipython3",
   "version": "3.5.1"
  }
 },
 "nbformat": 4,
 "nbformat_minor": 0
}
