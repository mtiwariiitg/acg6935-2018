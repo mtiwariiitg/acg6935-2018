{
 "cells": [
  {
   "cell_type": "code",
   "execution_count": null,
   "metadata": {
    "collapsed": false
   },
   "outputs": [],
   "source": [
    "import csv\n",
    "from random import *\n",
    "\n",
    "# import the file with people and roles\n",
    "with open('data/name_and_experience.csv') as f:\n",
    "    # create dictionary for each person (key, value pairs), where keys are: name, role (see first line of file)\n",
    "    # and make a list of all persons\n",
    "    persons = [{k: v for k, v in row.items()} for row in csv.DictReader(f, skipinitialspace=True)]\n",
    "# print list    \n",
    "persons"
   ]
  },
  {
   "cell_type": "code",
   "execution_count": null,
   "metadata": {
    "collapsed": false
   },
   "outputs": [],
   "source": [
    "# add a random number\n",
    "for person in persons:\n",
    "    person['random'] = randint(1, 1000)  \n",
    "# print list    \n",
    "persons"
   ]
  },
  {
   "cell_type": "code",
   "execution_count": null,
   "metadata": {
    "collapsed": false
   },
   "outputs": [],
   "source": [
    "# give a score based on role: 'observer' < 'new' < 'knows' \n",
    "exp_score_map = {\n",
    "    'pro':3,\n",
    "    'prepped': 2,\n",
    "    'observer':1\n",
    "}\n",
    "# add \n",
    "for person in persons:\n",
    "    # add score based on role; \n",
    "    # first look up the person's role, then look up the score for that role\n",
    "    person['exp_score'] = exp_score_map[ person [ 'experience' ]  ]    \n",
    "persons"
   ]
  },
  {
   "cell_type": "code",
   "execution_count": null,
   "metadata": {
    "collapsed": false
   },
   "outputs": [],
   "source": [
    "# sort, key=lambda means sort on a function, \n",
    "# shuffle\n",
    "persons = sorted(persons, key=lambda k: k['random'])\n",
    "# then get most experience persons first\n",
    "# -k['exp_score] is descending (larger exp_scores first)\n",
    "persons = sorted(persons, key=lambda k: -k['exp_score'])\n",
    "persons"
   ]
  },
  {
   "cell_type": "code",
   "execution_count": null,
   "metadata": {
    "collapsed": false
   },
   "outputs": [],
   "source": [
    "# let's initialize the groups:\n",
    "numGroups = 3\n",
    "groups = [ [] for i in range(0, numGroups) ]\n",
    "groups"
   ]
  },
  {
   "cell_type": "code",
   "execution_count": null,
   "metadata": {
    "collapsed": true
   },
   "outputs": [],
   "source": [
    "# now we spread out the persons over the groups\n",
    "# since it is sorted by score, we will get a mix of all experience levels\n",
    "for i in range(0, len(persons)):\n",
    "    groups[ i % numGroups ].append( persons[i]  )    \n"
   ]
  },
  {
   "cell_type": "code",
   "execution_count": null,
   "metadata": {
    "collapsed": false
   },
   "outputs": [],
   "source": [
    "# this function turns a person dictionary element into a string\n",
    "# {'name': 'Peter', 'role': 'knows'} => 'Peter [knows]'\n",
    "def description(person):\n",
    "    return \"{} [{}]\".format(person['name'], person['experience'])\n",
    "# print pretty group members\n",
    "for group in groups:    \n",
    "    print ( \", \".join([ description(a) for a in group ] ) )"
   ]
  },
  {
   "cell_type": "code",
   "execution_count": null,
   "metadata": {
    "collapsed": true
   },
   "outputs": [],
   "source": []
  }
 ],
 "metadata": {
  "kernelspec": {
   "display_name": "Python 3",
   "language": "python",
   "name": "python3"
  },
  "language_info": {
   "codemirror_mode": {
    "name": "ipython",
    "version": 3
   },
   "file_extension": ".py",
   "mimetype": "text/x-python",
   "name": "python",
   "nbconvert_exporter": "python",
   "pygments_lexer": "ipython3",
   "version": "3.5.1"
  }
 },
 "nbformat": 4,
 "nbformat_minor": 2
}
