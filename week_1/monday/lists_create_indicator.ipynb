{
 "cells": [
  {
   "cell_type": "code",
   "execution_count": null,
   "metadata": {
    "collapsed": false
   },
   "outputs": [],
   "source": [
    "# ingredients\n",
    "# assigning a value with if/else\n",
    "theAge = 45\n",
    "myGift = 'violent video game' if theAge < 17 else 'socks'\n",
    "print(myGift)"
   ]
  },
  {
   "cell_type": "code",
   "execution_count": null,
   "metadata": {
    "collapsed": false
   },
   "outputs": [],
   "source": [
    "# Usage of any: if at least one true/false is true, then true\n",
    "any ( [False , False, False ] )"
   ]
  },
  {
   "cell_type": "code",
   "execution_count": null,
   "metadata": {
    "collapsed": false
   },
   "outputs": [],
   "source": [
    "any ( [False , True, False ] )"
   ]
  },
  {
   "cell_type": "code",
   "execution_count": null,
   "metadata": {
    "collapsed": false
   },
   "outputs": [],
   "source": [
    "# Finding text\n",
    "\"Nemo\" in \"I have to find Nemo\""
   ]
  },
  {
   "cell_type": "code",
   "execution_count": null,
   "metadata": {
    "collapsed": false
   },
   "outputs": [],
   "source": [
    "# Repeating finding text: X in fullReview for X in list\n",
    "[ word in \"go gators\" for word in [\"go\", \"tigers\", \"gator\"] ]"
   ]
  },
  {
   "cell_type": "code",
   "execution_count": null,
   "metadata": {
    "collapsed": false
   },
   "outputs": [],
   "source": [
    "# Combining these\n",
    "\n",
    "# Text (that I want to examine)\n",
    "fullReview = \"\"\"This is text snippet that holds some person's review; I want to know if any of the below words are in there.\n",
    "Like clerk for example. If any of the words are in there, I want some variable to be 1, and 0 otherwise.\n",
    "By the way, this is a multiline string; note the triple quotes around it.\n",
    "\"\"\"\n",
    "\n",
    "# List of keywords that are potentially in the text\n",
    "jobList = [\"consult\", \"advisor\", \"summer associate\", \"technician\", \"clerk\", \"administrative\",\n",
    "        \"administration\", \"administrator\", \"actuarial\", \"developer\", \"analyst\", \"engineer\", \"marketing\",\n",
    "        \"human resources\", \"product manager\", \"automation\", \"business development\", \"enterprise\" ]\n",
    "\n",
    "# Indicator: 1 if any of the keywords are in the text\n",
    "foundJob = 1 if any(word in fullReview for word in jobList ) else 0  \n",
    "foundJob"
   ]
  }
 ],
 "metadata": {
  "kernelspec": {
   "display_name": "Python 3",
   "language": "python",
   "name": "python3"
  },
  "language_info": {
   "codemirror_mode": {
    "name": "ipython",
    "version": 3
   },
   "file_extension": ".py",
   "mimetype": "text/x-python",
   "name": "python",
   "nbconvert_exporter": "python",
   "pygments_lexer": "ipython3",
   "version": "3.5.1"
  }
 },
 "nbformat": 4,
 "nbformat_minor": 0
}
